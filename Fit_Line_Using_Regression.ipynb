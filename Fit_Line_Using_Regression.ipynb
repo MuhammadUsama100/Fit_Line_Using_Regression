{
  "nbformat": 4,
  "nbformat_minor": 0,
  "metadata": {
    "colab": {
      "name": "Fit-Line-Using-Regression",
      "provenance": [],
      "collapsed_sections": [],
      "authorship_tag": "ABX9TyNTrZQd5Gu7x4RCNov6xvZD",
      "include_colab_link": true
    },
    "kernelspec": {
      "name": "python3",
      "display_name": "Python 3"
    }
  },
  "cells": [
    {
      "cell_type": "markdown",
      "metadata": {
        "id": "view-in-github",
        "colab_type": "text"
      },
      "source": [
        "<a href=\"https://colab.research.google.com/github/MuhammadUsama100/Fit_Line_Using_Regression/blob/master/Fit_Line_Using_Regression.ipynb\" target=\"_parent\"><img src=\"https://colab.research.google.com/assets/colab-badge.svg\" alt=\"Open In Colab\"/></a>"
      ]
    },
    {
      "cell_type": "code",
      "metadata": {
        "id": "vDS8IGd4_8m2",
        "colab_type": "code",
        "colab": {}
      },
      "source": [
        "import numpy as np\n",
        "import pandas as pd \n",
        "import matplotlib.pyplot as plt\n",
        "%matplotlib inline"
      ],
      "execution_count": 0,
      "outputs": []
    },
    {
      "cell_type": "code",
      "metadata": {
        "id": "xT8HJfsPBZrT",
        "colab_type": "code",
        "colab": {
          "base_uri": "https://localhost:8080/",
          "height": 64
        },
        "outputId": "b028c010-6041-4c29-b72f-62667d6a3714"
      },
      "source": [
        "import tensorflow as tf "
      ],
      "execution_count": 4,
      "outputs": [
        {
          "output_type": "display_data",
          "data": {
            "text/html": [
              "<p style=\"color: red;\">\n",
              "The default version of TensorFlow in Colab will soon switch to TensorFlow 2.x.<br>\n",
              "We recommend you <a href=\"https://www.tensorflow.org/guide/migrate\" target=\"_blank\">upgrade</a> now \n",
              "or ensure your notebook will continue to use TensorFlow 1.x via the <code>%tensorflow_version 1.x</code> magic:\n",
              "<a href=\"https://colab.research.google.com/notebooks/tensorflow_version.ipynb\" target=\"_blank\">more info</a>.</p>\n"
            ],
            "text/plain": [
              "<IPython.core.display.HTML object>"
            ]
          },
          "metadata": {
            "tags": []
          }
        }
      ]
    },
    {
      "cell_type": "code",
      "metadata": {
        "id": "Dt4B5R4JBlJx",
        "colab_type": "code",
        "colab": {}
      },
      "source": [
        "x_data = np.linspace(0.0 , 10.0, 1000000)"
      ],
      "execution_count": 0,
      "outputs": []
    },
    {
      "cell_type": "code",
      "metadata": {
        "id": "fMHgjWpkB0B3",
        "colab_type": "code",
        "colab": {}
      },
      "source": [
        "noise = np.random.randn(len(x_data))"
      ],
      "execution_count": 0,
      "outputs": []
    },
    {
      "cell_type": "code",
      "metadata": {
        "id": "FeU364uiB8fP",
        "colab_type": "code",
        "colab": {
          "base_uri": "https://localhost:8080/",
          "height": 52
        },
        "outputId": "86547f06-0d0d-4463-8e5c-dd5c5802bceb"
      },
      "source": [
        "noise\n"
      ],
      "execution_count": 7,
      "outputs": [
        {
          "output_type": "execute_result",
          "data": {
            "text/plain": [
              "array([ 0.70104132, -0.53696675, -0.24516659, ...,  0.83654225,\n",
              "       -0.24927353, -1.50635681])"
            ]
          },
          "metadata": {
            "tags": []
          },
          "execution_count": 7
        }
      ]
    },
    {
      "cell_type": "code",
      "metadata": {
        "id": "Uk67Y8oPB-KT",
        "colab_type": "code",
        "colab": {}
      },
      "source": [
        "# y =  mx + b\n",
        "b = 5"
      ],
      "execution_count": 0,
      "outputs": []
    },
    {
      "cell_type": "code",
      "metadata": {
        "id": "Gm0I0K1qCKU6",
        "colab_type": "code",
        "colab": {}
      },
      "source": [
        "y_true = (0.5 * x_data) + 5 +noise"
      ],
      "execution_count": 0,
      "outputs": []
    },
    {
      "cell_type": "code",
      "metadata": {
        "id": "r2b4VPAiCP80",
        "colab_type": "code",
        "colab": {}
      },
      "source": [
        "x_df = pd.DataFrame(data = x_data , columns=[\"X Data\"])\n",
        "y_df = pd.DataFrame(data= y_true , columns=[\"Y\"])\n"
      ],
      "execution_count": 0,
      "outputs": []
    },
    {
      "cell_type": "code",
      "metadata": {
        "id": "E9d87weWCuOE",
        "colab_type": "code",
        "colab": {
          "base_uri": "https://localhost:8080/",
          "height": 202
        },
        "outputId": "f2938810-04a5-4bee-95ed-e611e4deb04d"
      },
      "source": [
        "y_df.head()"
      ],
      "execution_count": 11,
      "outputs": [
        {
          "output_type": "execute_result",
          "data": {
            "text/html": [
              "<div>\n",
              "<style scoped>\n",
              "    .dataframe tbody tr th:only-of-type {\n",
              "        vertical-align: middle;\n",
              "    }\n",
              "\n",
              "    .dataframe tbody tr th {\n",
              "        vertical-align: top;\n",
              "    }\n",
              "\n",
              "    .dataframe thead th {\n",
              "        text-align: right;\n",
              "    }\n",
              "</style>\n",
              "<table border=\"1\" class=\"dataframe\">\n",
              "  <thead>\n",
              "    <tr style=\"text-align: right;\">\n",
              "      <th></th>\n",
              "      <th>Y</th>\n",
              "    </tr>\n",
              "  </thead>\n",
              "  <tbody>\n",
              "    <tr>\n",
              "      <th>0</th>\n",
              "      <td>5.701041</td>\n",
              "    </tr>\n",
              "    <tr>\n",
              "      <th>1</th>\n",
              "      <td>4.463038</td>\n",
              "    </tr>\n",
              "    <tr>\n",
              "      <th>2</th>\n",
              "      <td>4.754843</td>\n",
              "    </tr>\n",
              "    <tr>\n",
              "      <th>3</th>\n",
              "      <td>5.857011</td>\n",
              "    </tr>\n",
              "    <tr>\n",
              "      <th>4</th>\n",
              "      <td>4.561351</td>\n",
              "    </tr>\n",
              "  </tbody>\n",
              "</table>\n",
              "</div>"
            ],
            "text/plain": [
              "          Y\n",
              "0  5.701041\n",
              "1  4.463038\n",
              "2  4.754843\n",
              "3  5.857011\n",
              "4  4.561351"
            ]
          },
          "metadata": {
            "tags": []
          },
          "execution_count": 11
        }
      ]
    },
    {
      "cell_type": "code",
      "metadata": {
        "id": "Kxewz8gTC3V0",
        "colab_type": "code",
        "colab": {}
      },
      "source": [
        "my_data = pd.concat([x_df , y_df] , axis= 1)"
      ],
      "execution_count": 0,
      "outputs": []
    },
    {
      "cell_type": "code",
      "metadata": {
        "id": "uwj_OFGjDJIp",
        "colab_type": "code",
        "colab": {
          "base_uri": "https://localhost:8080/",
          "height": 202
        },
        "outputId": "459e9b01-84a0-45f3-93a1-358e99e79c9a"
      },
      "source": [
        "my_data.head()"
      ],
      "execution_count": 13,
      "outputs": [
        {
          "output_type": "execute_result",
          "data": {
            "text/html": [
              "<div>\n",
              "<style scoped>\n",
              "    .dataframe tbody tr th:only-of-type {\n",
              "        vertical-align: middle;\n",
              "    }\n",
              "\n",
              "    .dataframe tbody tr th {\n",
              "        vertical-align: top;\n",
              "    }\n",
              "\n",
              "    .dataframe thead th {\n",
              "        text-align: right;\n",
              "    }\n",
              "</style>\n",
              "<table border=\"1\" class=\"dataframe\">\n",
              "  <thead>\n",
              "    <tr style=\"text-align: right;\">\n",
              "      <th></th>\n",
              "      <th>X Data</th>\n",
              "      <th>Y</th>\n",
              "    </tr>\n",
              "  </thead>\n",
              "  <tbody>\n",
              "    <tr>\n",
              "      <th>0</th>\n",
              "      <td>0.00000</td>\n",
              "      <td>5.701041</td>\n",
              "    </tr>\n",
              "    <tr>\n",
              "      <th>1</th>\n",
              "      <td>0.00001</td>\n",
              "      <td>4.463038</td>\n",
              "    </tr>\n",
              "    <tr>\n",
              "      <th>2</th>\n",
              "      <td>0.00002</td>\n",
              "      <td>4.754843</td>\n",
              "    </tr>\n",
              "    <tr>\n",
              "      <th>3</th>\n",
              "      <td>0.00003</td>\n",
              "      <td>5.857011</td>\n",
              "    </tr>\n",
              "    <tr>\n",
              "      <th>4</th>\n",
              "      <td>0.00004</td>\n",
              "      <td>4.561351</td>\n",
              "    </tr>\n",
              "  </tbody>\n",
              "</table>\n",
              "</div>"
            ],
            "text/plain": [
              "    X Data         Y\n",
              "0  0.00000  5.701041\n",
              "1  0.00001  4.463038\n",
              "2  0.00002  4.754843\n",
              "3  0.00003  5.857011\n",
              "4  0.00004  4.561351"
            ]
          },
          "metadata": {
            "tags": []
          },
          "execution_count": 13
        }
      ]
    },
    {
      "cell_type": "code",
      "metadata": {
        "id": "au4Yusn-DRoo",
        "colab_type": "code",
        "colab": {
          "base_uri": "https://localhost:8080/",
          "height": 415
        },
        "outputId": "5e054a1c-b870-4757-bc11-9c40c0d55a1c"
      },
      "source": [
        "my_data.sample(n=250)"
      ],
      "execution_count": 14,
      "outputs": [
        {
          "output_type": "execute_result",
          "data": {
            "text/html": [
              "<div>\n",
              "<style scoped>\n",
              "    .dataframe tbody tr th:only-of-type {\n",
              "        vertical-align: middle;\n",
              "    }\n",
              "\n",
              "    .dataframe tbody tr th {\n",
              "        vertical-align: top;\n",
              "    }\n",
              "\n",
              "    .dataframe thead th {\n",
              "        text-align: right;\n",
              "    }\n",
              "</style>\n",
              "<table border=\"1\" class=\"dataframe\">\n",
              "  <thead>\n",
              "    <tr style=\"text-align: right;\">\n",
              "      <th></th>\n",
              "      <th>X Data</th>\n",
              "      <th>Y</th>\n",
              "    </tr>\n",
              "  </thead>\n",
              "  <tbody>\n",
              "    <tr>\n",
              "      <th>425117</th>\n",
              "      <td>4.251174</td>\n",
              "      <td>9.139799</td>\n",
              "    </tr>\n",
              "    <tr>\n",
              "      <th>149783</th>\n",
              "      <td>1.497831</td>\n",
              "      <td>6.327146</td>\n",
              "    </tr>\n",
              "    <tr>\n",
              "      <th>330022</th>\n",
              "      <td>3.300223</td>\n",
              "      <td>7.183150</td>\n",
              "    </tr>\n",
              "    <tr>\n",
              "      <th>50813</th>\n",
              "      <td>0.508131</td>\n",
              "      <td>5.622444</td>\n",
              "    </tr>\n",
              "    <tr>\n",
              "      <th>365240</th>\n",
              "      <td>3.652404</td>\n",
              "      <td>7.969925</td>\n",
              "    </tr>\n",
              "    <tr>\n",
              "      <th>...</th>\n",
              "      <td>...</td>\n",
              "      <td>...</td>\n",
              "    </tr>\n",
              "    <tr>\n",
              "      <th>954501</th>\n",
              "      <td>9.545020</td>\n",
              "      <td>9.235490</td>\n",
              "    </tr>\n",
              "    <tr>\n",
              "      <th>227618</th>\n",
              "      <td>2.276182</td>\n",
              "      <td>6.371793</td>\n",
              "    </tr>\n",
              "    <tr>\n",
              "      <th>588792</th>\n",
              "      <td>5.887926</td>\n",
              "      <td>7.538067</td>\n",
              "    </tr>\n",
              "    <tr>\n",
              "      <th>720420</th>\n",
              "      <td>7.204207</td>\n",
              "      <td>9.815766</td>\n",
              "    </tr>\n",
              "    <tr>\n",
              "      <th>723500</th>\n",
              "      <td>7.235007</td>\n",
              "      <td>8.313115</td>\n",
              "    </tr>\n",
              "  </tbody>\n",
              "</table>\n",
              "<p>250 rows × 2 columns</p>\n",
              "</div>"
            ],
            "text/plain": [
              "          X Data         Y\n",
              "425117  4.251174  9.139799\n",
              "149783  1.497831  6.327146\n",
              "330022  3.300223  7.183150\n",
              "50813   0.508131  5.622444\n",
              "365240  3.652404  7.969925\n",
              "...          ...       ...\n",
              "954501  9.545020  9.235490\n",
              "227618  2.276182  6.371793\n",
              "588792  5.887926  7.538067\n",
              "720420  7.204207  9.815766\n",
              "723500  7.235007  8.313115\n",
              "\n",
              "[250 rows x 2 columns]"
            ]
          },
          "metadata": {
            "tags": []
          },
          "execution_count": 14
        }
      ]
    },
    {
      "cell_type": "code",
      "metadata": {
        "id": "JYn0zYKqDflq",
        "colab_type": "code",
        "colab": {
          "base_uri": "https://localhost:8080/",
          "height": 297
        },
        "outputId": "f2475b1f-fd4a-4f4e-fece-1c00c8e95f91"
      },
      "source": [
        "my_data.sample(n=250).plot(kind= \"scatter\" , x = \"X Data\" , y = \"Y\")"
      ],
      "execution_count": 15,
      "outputs": [
        {
          "output_type": "execute_result",
          "data": {
            "text/plain": [
              "<matplotlib.axes._subplots.AxesSubplot at 0x7f573f5211d0>"
            ]
          },
          "metadata": {
            "tags": []
          },
          "execution_count": 15
        },
        {
          "output_type": "display_data",
          "data": {
            "image/png": "[encoded data removed]",
            "text/plain": [
              "<Figure size 432x288 with 1 Axes>"
            ]
          },
          "metadata": {
            "tags": []
          }
        }
      ]
    },
    {
      "cell_type": "code",
      "metadata": {
        "id": "mxND2BdXEk6d",
        "colab_type": "code",
        "colab": {}
      },
      "source": [
        "batch_size = 8 "
      ],
      "execution_count": 0,
      "outputs": []
    },
    {
      "cell_type": "code",
      "metadata": {
        "id": "T2fbbrn6E-rY",
        "colab_type": "code",
        "colab": {
          "base_uri": "https://localhost:8080/",
          "height": 35
        },
        "outputId": "814d03e6-ae8d-4bef-8f01-82d302aa9319"
      },
      "source": [
        "np.random.randn(2)"
      ],
      "execution_count": 17,
      "outputs": [
        {
          "output_type": "execute_result",
          "data": {
            "text/plain": [
              "array([ 1.68729432, -1.41454658])"
            ]
          },
          "metadata": {
            "tags": []
          },
          "execution_count": 17
        }
      ]
    },
    {
      "cell_type": "code",
      "metadata": {
        "id": "rZ0FTC1BExaT",
        "colab_type": "code",
        "colab": {}
      },
      "source": [
        "m = tf.Variable(0.86)"
      ],
      "execution_count": 0,
      "outputs": []
    },
    {
      "cell_type": "code",
      "metadata": {
        "id": "tEEpp5o8E0pN",
        "colab_type": "code",
        "colab": {}
      },
      "source": [
        "b = tf.Variable(0.45) "
      ],
      "execution_count": 0,
      "outputs": []
    },
    {
      "cell_type": "code",
      "metadata": {
        "id": "GuXBCObxFGYp",
        "colab_type": "code",
        "colab": {}
      },
      "source": [
        "xplace  = tf.placeholder(tf.float32 , [batch_size])"
      ],
      "execution_count": 0,
      "outputs": []
    },
    {
      "cell_type": "code",
      "metadata": {
        "id": "vlArbF-nFeS2",
        "colab_type": "code",
        "colab": {}
      },
      "source": [
        "yplace =  tf.placeholder(tf.float32 , [batch_size])"
      ],
      "execution_count": 0,
      "outputs": []
    },
    {
      "cell_type": "code",
      "metadata": {
        "id": "E9k-XYCDFkbX",
        "colab_type": "code",
        "colab": {}
      },
      "source": [
        "ymodel =  m*xplace + b "
      ],
      "execution_count": 0,
      "outputs": []
    },
    {
      "cell_type": "code",
      "metadata": {
        "id": "67zweG9AFwXr",
        "colab_type": "code",
        "colab": {}
      },
      "source": [
        "error =  tf.reduce_sum(tf.square(yplace - ymodel))"
      ],
      "execution_count": 0,
      "outputs": []
    },
    {
      "cell_type": "code",
      "metadata": {
        "id": "9Vk0bWV7GN1H",
        "colab_type": "code",
        "colab": {}
      },
      "source": [
        "optimizr = tf.train.GradientDescentOptimizer(learning_rate=0.001)\n",
        "train  = optimizr.minimize(error)"
      ],
      "execution_count": 0,
      "outputs": []
    },
    {
      "cell_type": "code",
      "metadata": {
        "id": "UNd-NseZIDE1",
        "colab_type": "code",
        "colab": {}
      },
      "source": [
        "init = tf.global_variables_initializer()"
      ],
      "execution_count": 0,
      "outputs": []
    },
    {
      "cell_type": "code",
      "metadata": {
        "id": "GeTmwqpNG1m9",
        "colab_type": "code",
        "colab": {}
      },
      "source": [
        "with tf.Session() as sess : \n",
        "  sess.run(init)\n",
        "  batches = 10000 # I have run through 10000 of dataset 1000000 for 100000 is is over fitting  \n",
        "  for i  in range (batches) : \n",
        "    rand_ind  = np.random.randint(len(x_data) , size=batch_size)\n",
        "    feed = {xplace:x_data[rand_ind],yplace:y_true[rand_ind]}\n",
        "    sess.run(train, feed_dict = feed)\n",
        "  model_m , model_b = sess.run([m ,b])\n"
      ],
      "execution_count": 0,
      "outputs": []
    },
    {
      "cell_type": "code",
      "metadata": {
        "id": "zrx9VrkMINRs",
        "colab_type": "code",
        "colab": {
          "base_uri": "https://localhost:8080/",
          "height": 35
        },
        "outputId": "40821eaf-d9d8-4ce6-c119-22bc3a46a5b4"
      },
      "source": [
        "model_m"
      ],
      "execution_count": 30,
      "outputs": [
        {
          "output_type": "execute_result",
          "data": {
            "text/plain": [
              "0.57024187"
            ]
          },
          "metadata": {
            "tags": []
          },
          "execution_count": 30
        }
      ]
    },
    {
      "cell_type": "code",
      "metadata": {
        "id": "NpcIpqU-IRPA",
        "colab_type": "code",
        "colab": {
          "base_uri": "https://localhost:8080/",
          "height": 35
        },
        "outputId": "4a77f8b8-d59b-4c67-f736-5a63186f7ce8"
      },
      "source": [
        "model_b"
      ],
      "execution_count": 31,
      "outputs": [
        {
          "output_type": "execute_result",
          "data": {
            "text/plain": [
              "4.987331"
            ]
          },
          "metadata": {
            "tags": []
          },
          "execution_count": 31
        }
      ]
    },
    {
      "cell_type": "code",
      "metadata": {
        "id": "QSL7gh4AIVnq",
        "colab_type": "code",
        "colab": {}
      },
      "source": [
        "y_hat = x_data*model_m + model_b"
      ],
      "execution_count": 0,
      "outputs": []
    },
    {
      "cell_type": "code",
      "metadata": {
        "id": "UkIDgTmjIcQe",
        "colab_type": "code",
        "colab": {
          "base_uri": "https://localhost:8080/",
          "height": 301
        },
        "outputId": "70bb4e80-ed99-4d31-f3c3-93a1977be7fe"
      },
      "source": [
        "my_data.sample(250).plot(kind = \"scatter\" ,  x= \"X Data\" , y = \"Y\")\n",
        "plt.plot(x_data ,  y_hat ,\"r\")"
      ],
      "execution_count": 33,
      "outputs": [
        {
          "output_type": "execute_result",
          "data": {
            "text/plain": [
              "[<matplotlib.lines.Line2D at 0x7f573c00f2b0>]"
            ]
          },
          "metadata": {
            "tags": []
          },
          "execution_count": 33
        },
        {
          "output_type": "display_data",
          "data": {
            "image/png": "[encoded data removed]",
            "text/plain": [
              "<Figure size 432x288 with 1 Axes>"
            ]
          },
          "metadata": {
            "tags": []
          }
        }
      ]
    },
    {
      "cell_type": "code",
      "metadata": {
        "id": "_k9nyD8fIusv",
        "colab_type": "code",
        "colab": {}
      },
      "source": [
        ""
      ],
      "execution_count": 0,
      "outputs": []
    }
  ]
}